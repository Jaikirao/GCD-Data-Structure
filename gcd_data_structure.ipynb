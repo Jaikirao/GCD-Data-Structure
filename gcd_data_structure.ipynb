{
  "nbformat": 4,
  "nbformat_minor": 0,
  "metadata": {
    "colab": {
      "name": "Welcome To Colaboratory",
      "version": "0.3.2",
      "provenance": [],
      "collapsed_sections": [],
      "toc_visible": true,
      "include_colab_link": true
    },
    "kernelspec": {
      "display_name": "Python 3",
      "name": "python3"
    }
  },
  "cells": [
    {
      "cell_type": "markdown",
      "metadata": {
        "id": "view-in-github",
        "colab_type": "text"
      },
      "source": [
        "<a href=\"https://colab.research.google.com/github/Jaikirao/GCD-Data-Structure/blob/master/gcd_data_structure.ipynb\" target=\"_parent\"><img src=\"https://colab.research.google.com/assets/colab-badge.svg\" alt=\"Open In Colab\"/></a>"
      ]
    },
    {
      "cell_type": "code",
      "metadata": {
        "id": "jIrnp3Ww2GQd",
        "colab_type": "code",
        "colab": {}
      },
      "source": [
        "#this is one way to find out the GCD \n",
        "def gcd(m,n):\n",
        "  fm=[]\n",
        "  for i in range (1,m+1):\n",
        "    if (m%i)==0:\n",
        "      fm.append(i)\n",
        "      \n",
        "  fn=[]\n",
        "  for j in range (1,n+1):\n",
        "    if (n%i)==0:\n",
        "      fm.append(j)\n",
        "   \n",
        "  cf=[]\n",
        "  for f in fm:\n",
        "    if f in fn:\n",
        "      cf.append(f)\n",
        "  \n",
        "  return (cf[-1])"
      ],
      "execution_count": 0,
      "outputs": []
    },
    {
      "cell_type": "code",
      "metadata": {
        "id": "iEKr9Vbt2GOk",
        "colab_type": "code",
        "colab": {}
      },
      "source": [
        "#this is the secound way to find out the GCD no. \n",
        "def gcd(m,n):\n",
        "  #let suppose m>=n\n",
        "  if m<n:\n",
        "    #we just simply swap the no. if it is wrong.\n",
        "    (m,n)=(n,m)\n",
        "    \n",
        "  if (m%n)==0:\n",
        "    return (n)\n",
        "  else: \n",
        "    diff =m-n\n",
        "    return (gcd(max(m-n),min(m-n)))"
      ],
      "execution_count": 0,
      "outputs": []
    },
    {
      "cell_type": "code",
      "metadata": {
        "id": "RsFqzsR32GMf",
        "colab_type": "code",
        "colab": {}
      },
      "source": [
        ""
      ],
      "execution_count": 0,
      "outputs": []
    },
    {
      "cell_type": "code",
      "metadata": {
        "id": "6HWzRnUq2GCs",
        "colab_type": "code",
        "colab": {}
      },
      "source": [
        ""
      ],
      "execution_count": 0,
      "outputs": []
    },
    {
      "cell_type": "code",
      "metadata": {
        "id": "QRW2n8Gc2F6c",
        "colab_type": "code",
        "colab": {}
      },
      "source": [
        ""
      ],
      "execution_count": 0,
      "outputs": []
    },
    {
      "cell_type": "code",
      "metadata": {
        "id": "V4g6b4oN2F3Y",
        "colab_type": "code",
        "colab": {}
      },
      "source": [
        ""
      ],
      "execution_count": 0,
      "outputs": []
    },
    {
      "cell_type": "code",
      "metadata": {
        "id": "SDhqnNPC2Fyv",
        "colab_type": "code",
        "colab": {}
      },
      "source": [
        ""
      ],
      "execution_count": 0,
      "outputs": []
    }
  ]
}